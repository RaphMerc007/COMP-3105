{
  "cells": [
    {
      "cell_type": "markdown",
      "metadata": {
        "id": "PYK3cn0U3nl3"
      },
      "source": [
        "# COMP 3105 Introduction to Machine Learning NumPy Tutorial\n"
      ]
    },
    {
      "cell_type": "markdown",
      "metadata": {
        "id": "K9P0GRfRbnmF"
      },
      "source": [
        "## To Start: Virtual Environments\n",
        "\n",
        "### Why\n",
        "\n",
        "A Python program/package can depend on many other programs/packages. Managing these dependencies is non-trivial because, for example, program A can depend on program C with version 1.0 while program B can depend on program C but with version 2.0. Then you cannot just install one single program C and hope that both programs A and B can work simultaneously. This is why virtual environments can be handy.\n",
        "\n",
        "By setting up a virtual environment using [conda](https://conda.io/projects/conda/en/latest/user-guide/getting-started.html) or [venv](https://docs.python.org/3/library/venv.html), we create a fresh and empty environment to play with, without risking messing up the actual environment on your computer.\n",
        "\n",
        "### How\n",
        "\n",
        "Remotely, Google Colab hosts cloud machines with many Python packages preinstalled so that you can run Jupyter notebooks like this one without setting up a virtual environment.\n",
        "\n",
        "Locally on your own computer, you can run the following to create a conda environment\n",
        "\n",
        "```\n",
        "conda create --name COMP3105 -c conda-forge --file requirements.txt\n",
        "```\n",
        "\n",
        "This creates a virtual env named `COMP3105` and installs Python packages specified in `requirements.txt` which can be found in the assignment and you are free to modify it as needed.\n",
        "\n",
        "Now you can activate the env by\n",
        "\n",
        "```\n",
        "conda activate COMP3105\n",
        "```\n",
        "\n",
        "Then your prompt will become\n",
        "\n",
        "```\n",
        "(COMP3105) $\n",
        "```\n",
        "\n",
        "and you can see which python is used now\n",
        "\n",
        "```\n",
        "(COMP3105) $ which python\n",
        "```\n",
        "\n",
        "You can even install more packages by\n",
        "\n",
        "```\n",
        "(COMP3105) $ conda install PACKAGE\n",
        "OR\n",
        "(COMP3105) $ pip install PACKAGE\n",
        "```\n",
        "\n",
        "You can run your code using\n",
        "\n",
        "```\n",
        "(COMP3105) $ python PATH_TO_PYTHON_FILE\n",
        "```\n",
        "\n",
        "Finally, when you are done, you can exit the env by\n",
        "\n",
        "```\n",
        "(COMP3105) $ conda deactivate\n",
        "```\n",
        "\n",
        "and the prompt will change back.\n"
      ]
    },
    {
      "cell_type": "markdown",
      "metadata": {
        "id": "gqiO-p7t3kcP"
      },
      "source": [
        "## Python\n",
        "\n",
        "Basics\n"
      ]
    },
    {
      "cell_type": "code",
      "execution_count": null,
      "metadata": {
        "colab": {
          "base_uri": "https://localhost:8080/"
        },
        "id": "c18hUw5bqHf-",
        "outputId": "6f5588dd-b7f3-4b5b-dacc-9098566aa250"
      },
      "outputs": [
        {
          "name": "stdout",
          "output_type": "stream",
          "text": [
            "Printing\n",
            "3\n",
            "Value of a/b is 1.5\n",
            "Value of a//b is 1\n"
          ]
        }
      ],
      "source": [
        "a = 3\n",
        "b = 2\n",
        "print(\"Printing\")\n",
        "print(a)\n",
        "print(f\"Value of a/b is {a/b}\")  # f-string in Python 3\n",
        "print(f\"Value of a//b is {a//b}\")"
      ]
    },
    {
      "cell_type": "markdown",
      "metadata": {
        "id": "7K9Nv_4RrKlU"
      },
      "source": [
        "Data types\n"
      ]
    },
    {
      "cell_type": "code",
      "execution_count": 2,
      "metadata": {
        "colab": {
          "base_uri": "https://localhost:8080/"
        },
        "id": "MEFiStZoqWQO",
        "outputId": "ef3d2e44-2ac9-47ad-9d60-2507bb51afe4"
      },
      "outputs": [
        {
          "name": "stdout",
          "output_type": "stream",
          "text": [
            "<class 'int'>\n",
            "<class 'float'>\n",
            "<class 'str'>\n",
            "<class 'tuple'>\n",
            "<class 'list'>\n",
            "<class 'bool'>\n"
          ]
        }
      ],
      "source": [
        "a = 4\n",
        "print(type(a))\n",
        "\n",
        "b = 3.1415625\n",
        "print(type(b))\n",
        "\n",
        "c = \"this is a string\"\n",
        "print(type(c))\n",
        "\n",
        "d = (1, 2, 3)\n",
        "print(type(d))\n",
        "\n",
        "e = [1, 2, 3]\n",
        "print(type(e))\n",
        "\n",
        "f = True\n",
        "print(type(f))"
      ]
    },
    {
      "cell_type": "markdown",
      "metadata": {
        "id": "lY9jtqrFLGIZ"
      },
      "source": [
        "Pecular float point behavior\n"
      ]
    },
    {
      "cell_type": "code",
      "execution_count": 3,
      "metadata": {
        "colab": {
          "base_uri": "https://localhost:8080/"
        },
        "id": "Kd2I7C1JG69k",
        "outputId": "d73a1e20-cbcd-4f9e-ff96-a2df2861c7b8"
      },
      "outputs": [
        {
          "name": "stdout",
          "output_type": "stream",
          "text": [
            "0.3\n",
            "0.30000000000000004\n",
            "False\n"
          ]
        }
      ],
      "source": [
        "a = 0.3\n",
        "b = 0.1 + 0.1 + 0.1\n",
        "\n",
        "print(a)\n",
        "print(b)\n",
        "print(a==b)"
      ]
    },
    {
      "cell_type": "markdown",
      "metadata": {
        "id": "DjqERnl6RUy-"
      },
      "source": [
        "Some data types are mutable\n"
      ]
    },
    {
      "cell_type": "code",
      "execution_count": 4,
      "metadata": {
        "colab": {
          "base_uri": "https://localhost:8080/"
        },
        "id": "jm-AbD5hRWkX",
        "outputId": "871b6f07-5ec4-4c3d-ca74-44162907c9aa"
      },
      "outputs": [
        {
          "name": "stdout",
          "output_type": "stream",
          "text": [
            "[1, 2, 3]\n",
            "[-1, 2, 3]\n"
          ]
        }
      ],
      "source": [
        "a = [1, 2, 3]\n",
        "print(a)\n",
        "a[0] = -1\n",
        "print(a)"
      ]
    },
    {
      "cell_type": "markdown",
      "metadata": {
        "id": "ZGSyzy0kRMEe"
      },
      "source": [
        "Some are not mutable\n"
      ]
    },
    {
      "cell_type": "code",
      "execution_count": 5,
      "metadata": {
        "id": "43lpqZ6rRJV2"
      },
      "outputs": [],
      "source": [
        "a = (1, 2, 3)\n",
        "# a[0] = -1  # error"
      ]
    },
    {
      "cell_type": "code",
      "execution_count": 6,
      "metadata": {
        "id": "lhLQ5U4bRpLJ"
      },
      "outputs": [],
      "source": [
        "a = \"this is a string\"\n",
        "# a[0] = \"g\"  # error"
      ]
    },
    {
      "cell_type": "markdown",
      "metadata": {
        "id": "-JysUI_AQQvx"
      },
      "source": [
        "Python pass by reference\n"
      ]
    },
    {
      "cell_type": "code",
      "execution_count": 7,
      "metadata": {
        "colab": {
          "base_uri": "https://localhost:8080/"
        },
        "id": "vG4lO_E3HQGh",
        "outputId": "7feb79a2-d42d-4bd4-eea0-260480b97775"
      },
      "outputs": [
        {
          "name": "stdout",
          "output_type": "stream",
          "text": [
            "b: [[1, 2, 3], [1, 2, 3], [1, 2, 3]]\n",
            "b: [[100, 2, 3], [100, 2, 3], [100, 2, 3]]\n"
          ]
        }
      ],
      "source": [
        "a = [1, 2, 3]\n",
        "b = [a, a, a]  # list of lists\n",
        "print(f\"b: {b}\")\n",
        "\n",
        "a[0] = 100\n",
        "print(f\"b: {b}\")"
      ]
    },
    {
      "cell_type": "markdown",
      "metadata": {
        "id": "ySa54l8aS2eJ"
      },
      "source": [
        "Python list comprehension\n"
      ]
    },
    {
      "cell_type": "code",
      "execution_count": 8,
      "metadata": {
        "colab": {
          "base_uri": "https://localhost:8080/"
        },
        "id": "-wkYQSfVG_C4",
        "outputId": "94c5bb8e-c84a-448b-c884-7b923b03fd90"
      },
      "outputs": [
        {
          "name": "stdout",
          "output_type": "stream",
          "text": [
            "[0, 1, 1]\n",
            "['4', '5', '6']\n",
            "[4, 5, 6]\n"
          ]
        }
      ],
      "source": [
        "a = [1, 2, 3]\n",
        "b = [1 if x >= 2 else 0 for x in a]  # create a new list\n",
        "print(b)\n",
        "\n",
        "c = [\"4\", \"5\", \"6\"]\n",
        "print(c)\n",
        "d = [int(x) for x in c]  # apply a function to each element\n",
        "print(d)"
      ]
    },
    {
      "cell_type": "markdown",
      "metadata": {
        "id": "XVHioGPuThUn"
      },
      "source": [
        "Function\n"
      ]
    },
    {
      "cell_type": "code",
      "execution_count": 9,
      "metadata": {
        "colab": {
          "base_uri": "https://localhost:8080/"
        },
        "id": "28V8P4fgTi31",
        "outputId": "b75134c2-a59d-48f3-d24c-186344646734"
      },
      "outputs": [
        {
          "name": "stdout",
          "output_type": "stream",
          "text": [
            "(15, 50)\n",
            "(11, 10)\n"
          ]
        }
      ],
      "source": [
        "def sum_and_product(a, b=1):  # set default value\n",
        "    return a + b, a * b  # return as a tuple\n",
        "\n",
        "print(sum_and_product(10, 5))\n",
        "print(sum_and_product(10))"
      ]
    },
    {
      "cell_type": "markdown",
      "metadata": {
        "id": "83YKea6jUhX_"
      },
      "source": [
        "## NumPy\n",
        "\n",
        "NumPy is a Python library that is very effective in manipulating and calculating arrays of numbers\n"
      ]
    },
    {
      "cell_type": "code",
      "execution_count": 10,
      "metadata": {
        "id": "ZO4DIm1XHQk4"
      },
      "outputs": [],
      "source": [
        "import numpy as np"
      ]
    },
    {
      "cell_type": "markdown",
      "metadata": {
        "id": "oflrvPyJYLzH"
      },
      "source": [
        "### 1D Arrays\n",
        "\n",
        "Create and modify an array\n"
      ]
    },
    {
      "cell_type": "code",
      "execution_count": 11,
      "metadata": {
        "colab": {
          "base_uri": "https://localhost:8080/"
        },
        "id": "PvCok2zSB2k1",
        "outputId": "c5f5e5fe-af0c-4e60-bbc0-ed3a10908073"
      },
      "outputs": [
        {
          "name": "stdout",
          "output_type": "stream",
          "text": [
            "[1 2 3]\n",
            "[-1  2  3]\n"
          ]
        }
      ],
      "source": [
        "a = np.array([1, 2, 3])\n",
        "\n",
        "print(a)\n",
        "\n",
        "a[0] = -1\n",
        "print(a)"
      ]
    },
    {
      "cell_type": "markdown",
      "metadata": {
        "id": "CndoyADsYPND"
      },
      "source": [
        "Difference between Python list and np array\n"
      ]
    },
    {
      "cell_type": "code",
      "execution_count": 12,
      "metadata": {
        "colab": {
          "base_uri": "https://localhost:8080/"
        },
        "id": "50C1XaXbjxFn",
        "outputId": "82cb7314-ca45-4de6-92d9-47726ce61c18"
      },
      "outputs": [
        {
          "name": "stdout",
          "output_type": "stream",
          "text": [
            "[1, 2, 3, 4, 5, 6]\n",
            "[5 7 9]\n"
          ]
        }
      ],
      "source": [
        "list1 = [1, 2, 3]\n",
        "list2 = [4, 5, 6]\n",
        "\n",
        "print(list1 + list2)  # concatenation of two lists\n",
        "\n",
        "a = np.array([1, 2, 3])\n",
        "b = np.array((4, 5, 6))\n",
        "\n",
        "print(a + b)  # sum of two vectors"
      ]
    },
    {
      "cell_type": "markdown",
      "metadata": {
        "id": "QgoY4oh3Yqpk"
      },
      "source": [
        "Array products\n"
      ]
    },
    {
      "cell_type": "code",
      "execution_count": 13,
      "metadata": {
        "colab": {
          "base_uri": "https://localhost:8080/"
        },
        "id": "GdnSsBjEXoW_",
        "outputId": "f7e394f0-4668-410b-8684-f1a5e16880bf"
      },
      "outputs": [
        {
          "name": "stdout",
          "output_type": "stream",
          "text": [
            "[1, 2, 3, 1, 2, 3, 1, 2, 3]\n",
            "[ 4 10 18]\n",
            "32\n"
          ]
        }
      ],
      "source": [
        "print(list1 * 3)  # repeat lists\n",
        "\n",
        "print(a * b)  # elementwise product\n",
        "print(np.dot(a, b))  # inner/dot product"
      ]
    },
    {
      "cell_type": "markdown",
      "metadata": {
        "id": "yS-24or5Y44P"
      },
      "source": [
        "### 2D Arrays (Matrices)\n"
      ]
    },
    {
      "cell_type": "code",
      "execution_count": 14,
      "metadata": {
        "colab": {
          "base_uri": "https://localhost:8080/"
        },
        "id": "Q_39E34OX0BZ",
        "outputId": "9f73cca4-033a-4be6-e1ae-3e43c907af66"
      },
      "outputs": [
        {
          "name": "stdout",
          "output_type": "stream",
          "text": [
            "[[ 1  2  3]\n",
            " [ 4  5  6]\n",
            " [ 7  8  9]\n",
            " [10 11 12]]\n"
          ]
        }
      ],
      "source": [
        "X = np.array([[1, 2, 3], [4, 5, 6], [7, 8, 9], [10, 11, 12]])\n",
        "\n",
        "# A nicer look for us:\n",
        "X = np.array([[1, 2, 3],\n",
        "              [4, 5, 6],\n",
        "              [7, 8, 9],\n",
        "              [10, 11, 12]])\n",
        "\n",
        "print(X)"
      ]
    },
    {
      "cell_type": "markdown",
      "metadata": {
        "id": "4T9oNqFTZVuh"
      },
      "source": [
        "Check the dimensions/sizes/shape of an array\n"
      ]
    },
    {
      "cell_type": "code",
      "execution_count": 15,
      "metadata": {
        "colab": {
          "base_uri": "https://localhost:8080/"
        },
        "id": "GWo_nDHFY_uf",
        "outputId": "300a4fe6-d292-4115-a1f1-8552b9f39f4c"
      },
      "outputs": [
        {
          "name": "stdout",
          "output_type": "stream",
          "text": [
            "(4, 3)\n",
            "<class 'tuple'>\n"
          ]
        }
      ],
      "source": [
        "print(X.shape)\n",
        "print(type(X.shape))"
      ]
    },
    {
      "cell_type": "markdown",
      "metadata": {
        "id": "YvYl3BxHbZFV"
      },
      "source": [
        "Access rows and columns\n"
      ]
    },
    {
      "cell_type": "code",
      "execution_count": 16,
      "metadata": {
        "colab": {
          "base_uri": "https://localhost:8080/"
        },
        "id": "tw07Vm7CawQ5",
        "outputId": "1bdef2e8-e238-4d35-b1b5-0c2d45adee41"
      },
      "outputs": [
        {
          "name": "stdout",
          "output_type": "stream",
          "text": [
            "First row of X: [1 2 3]\n",
            "Second column of X: [ 2  5  8 11]\n",
            "Up until second row/column of X:\n",
            "[[1 2]\n",
            " [4 5]]\n"
          ]
        }
      ],
      "source": [
        "print(f\"First row of X: {X[0]}\")\n",
        "\n",
        "print(f\"Second column of X: {X[:, 1]}\")\n",
        "\n",
        "print(\"Up until second row/column of X:\")\n",
        "print(X[:2, :2])"
      ]
    },
    {
      "cell_type": "markdown",
      "metadata": {
        "id": "OU1CLLoHbcE1"
      },
      "source": [
        "Modifying rows and columns\n"
      ]
    },
    {
      "cell_type": "code",
      "execution_count": 17,
      "metadata": {
        "colab": {
          "base_uri": "https://localhost:8080/"
        },
        "id": "gjkRTvMqbeKO",
        "outputId": "138e2e24-ffa3-4df1-bd0a-a81a29c381f4"
      },
      "outputs": [
        {
          "name": "stdout",
          "output_type": "stream",
          "text": [
            "[[-1 -2 -3]\n",
            " [ 4  5  6]\n",
            " [ 7  8  9]\n",
            " [10 11 12]] \n",
            "\n",
            "[[-1  0 -3]\n",
            " [ 4  0  6]\n",
            " [ 7  0  9]\n",
            " [10  0 12]] \n",
            "\n",
            "[[ -1   0  -3]\n",
            " [  4   0   6]\n",
            " [  7   0   9]\n",
            " [ 10   0 100]]\n"
          ]
        }
      ],
      "source": [
        "X[0] = [-1, -2, -3]\n",
        "print(X, '\\n')\n",
        "\n",
        "X[:, 1] = [0, 0, 0, 0]\n",
        "print(X, '\\n')\n",
        "\n",
        "X[3, 2] = 100\n",
        "print(X)"
      ]
    },
    {
      "cell_type": "markdown",
      "metadata": {
        "id": "KMF_PsHmarsh"
      },
      "source": [
        "Matrix transpose\n"
      ]
    },
    {
      "cell_type": "code",
      "execution_count": 18,
      "metadata": {
        "colab": {
          "base_uri": "https://localhost:8080/"
        },
        "id": "Odc51RWKah4B",
        "outputId": "d951fa48-8e8e-41ed-98d4-4f8759b21e39"
      },
      "outputs": [
        {
          "name": "stdout",
          "output_type": "stream",
          "text": [
            "[[ 1  4  7 10]\n",
            " [ 2  5  8 11]\n",
            " [ 3  6  9 12]]\n"
          ]
        }
      ],
      "source": [
        "X = np.array([[1, 2, 3],\n",
        "              [4, 5, 6],\n",
        "              [7, 8, 9],\n",
        "              [10, 11, 12]])\n",
        "\n",
        "print(X.T)"
      ]
    },
    {
      "cell_type": "markdown",
      "metadata": {
        "id": "LjwO7Dj8Rkm9"
      },
      "source": [
        "Some utilitity functions\n"
      ]
    },
    {
      "cell_type": "code",
      "execution_count": 19,
      "metadata": {
        "colab": {
          "base_uri": "https://localhost:8080/"
        },
        "id": "AkypiGe_Rm_0",
        "outputId": "967ad1a6-521e-4a7f-fa21-a4f8cadbbb66"
      },
      "outputs": [
        {
          "name": "stdout",
          "output_type": "stream",
          "text": [
            "[[0. 0. 0.]\n",
            " [0. 0. 0.]] \n",
            "\n",
            "[[1. 1.]\n",
            " [1. 1.]\n",
            " [1. 1.]] \n",
            "\n",
            "[[ 0.89250242 -0.61879329]\n",
            " [ 0.10299791  0.26746972]]\n"
          ]
        }
      ],
      "source": [
        "X = np.zeros([2, 3])\n",
        "print(X, '\\n')\n",
        "X = np.ones([3, 2])\n",
        "print(X, '\\n')\n",
        "# np.random.seed(0)\n",
        "X = np.random.randn(2, 2)\n",
        "print(X)"
      ]
    },
    {
      "cell_type": "markdown",
      "metadata": {
        "id": "JOxF2aAJiz0n"
      },
      "source": [
        "Indexing: https://numpy.org/doc/stable/user/basics.indexing.html\n"
      ]
    },
    {
      "cell_type": "code",
      "execution_count": 20,
      "metadata": {
        "colab": {
          "base_uri": "https://localhost:8080/"
        },
        "id": "Lg-Z0XyMi7zG",
        "outputId": "527e4695-d162-4ba7-a694-9f8d72de591e"
      },
      "outputs": [
        {
          "name": "stdout",
          "output_type": "stream",
          "text": [
            "[[0 0 0]\n",
            " [0 0 0]\n",
            " [1 1 1]\n",
            " [1 1 1]]\n"
          ]
        }
      ],
      "source": [
        "X = np.array([[1, 2, 3],\n",
        "              [4, 5, 6],\n",
        "              [7, 8, 9],\n",
        "              [10, 11, 12]])\n",
        "\n",
        "X[X <= 6] = 0\n",
        "X[X > 6] = 1\n",
        "print(X)"
      ]
    },
    {
      "cell_type": "markdown",
      "metadata": {
        "id": "jYD2qNRkgLRb"
      },
      "source": [
        "Broadcast rules https://numpy.org/doc/stable/user/basics.broadcasting.html\n"
      ]
    },
    {
      "cell_type": "code",
      "execution_count": 21,
      "metadata": {
        "colab": {
          "base_uri": "https://localhost:8080/"
        },
        "id": "2Ro3NBAxgJ1d",
        "outputId": "3605e5bb-efd7-4358-f802-b35c11548157"
      },
      "outputs": [
        {
          "name": "stdout",
          "output_type": "stream",
          "text": [
            "[[ 0  1  2]\n",
            " [ 3  4  5]\n",
            " [ 6  7  8]\n",
            " [ 9 10 11]]\n"
          ]
        }
      ],
      "source": [
        "X = np.array([[1, 2, 3],\n",
        "              [4, 5, 6],\n",
        "              [7, 8, 9],\n",
        "              [10, 11, 12]])\n",
        "\n",
        "print(X - 1)"
      ]
    },
    {
      "cell_type": "code",
      "execution_count": 22,
      "metadata": {
        "colab": {
          "base_uri": "https://localhost:8080/"
        },
        "id": "9pnEZPqYgbuU",
        "outputId": "bf4dedfd-3edc-4aa9-9a8d-7a9955f60d4e"
      },
      "outputs": [
        {
          "name": "stdout",
          "output_type": "stream",
          "text": [
            "[[5.5 6.5 7.5]]\n",
            "X shape: (4, 3)\n",
            "X_row_mean shape: (1, 3)\n",
            "[[-4.5 -4.5 -4.5]\n",
            " [-1.5 -1.5 -1.5]\n",
            " [ 1.5  1.5  1.5]\n",
            " [ 4.5  4.5  4.5]]\n"
          ]
        }
      ],
      "source": [
        "X_row_mean = np.mean(X, axis=0, keepdims=True)  # Note keepdims=True here (what if keepdims=False?)\n",
        "print(X_row_mean)\n",
        "print(f\"X shape: {X.shape}\")\n",
        "print(f\"X_row_mean shape: {X_row_mean.shape}\")\n",
        "print(X - X_row_mean)"
      ]
    },
    {
      "cell_type": "code",
      "execution_count": 23,
      "metadata": {
        "colab": {
          "base_uri": "https://localhost:8080/"
        },
        "id": "NxTGD0higpfv",
        "outputId": "30de0556-90ae-4405-a316-c130c9968904"
      },
      "outputs": [
        {
          "name": "stdout",
          "output_type": "stream",
          "text": [
            "X shape: (4, 3)\n",
            "X_col_mean shape: (4, 1)\n",
            "[[-1.  0.  1.]\n",
            " [-1.  0.  1.]\n",
            " [-1.  0.  1.]\n",
            " [-1.  0.  1.]]\n"
          ]
        }
      ],
      "source": [
        "X_col_mean = np.mean(X, axis=1, keepdims=True)\n",
        "print(f\"X shape: {X.shape}\")\n",
        "print(f\"X_col_mean shape: {X_col_mean.shape}\")\n",
        "print(X - X_col_mean)"
      ]
    },
    {
      "cell_type": "markdown",
      "metadata": {
        "id": "8yJQBE4aZgGa"
      },
      "source": [
        "Matrix multiplication\n"
      ]
    },
    {
      "cell_type": "code",
      "execution_count": 24,
      "metadata": {
        "colab": {
          "base_uri": "https://localhost:8080/"
        },
        "id": "grSNxVrDZB2v",
        "outputId": "84a45f27-b223-49a0-ad8b-9c305edad214"
      },
      "outputs": [
        {
          "name": "stdout",
          "output_type": "stream",
          "text": [
            "X:\n",
            "[[1 2]\n",
            " [3 4]\n",
            " [5 6]]\n",
            "w:\n",
            "[[1]\n",
            " [1]]\n",
            "X times w:\n",
            "[[ 3]\n",
            " [ 7]\n",
            " [11]]\n"
          ]
        }
      ],
      "source": [
        "X = np.array([[1, 2],\n",
        "              [3, 4],\n",
        "              [5, 6]])\n",
        "\n",
        "w = np.array([[1],\n",
        "              [1]])  # a column vector of all ones\n",
        "\n",
        "print(\"X:\")\n",
        "print(X)\n",
        "print(\"w:\")\n",
        "print(w)\n",
        "print(\"X times w:\")\n",
        "print(X @ w)  # same as np.matmul(X,w)"
      ]
    },
    {
      "cell_type": "markdown",
      "metadata": {
        "id": "ysqRMz-enXrv"
      },
      "source": [
        "Matrix inverse\n"
      ]
    },
    {
      "cell_type": "code",
      "execution_count": 25,
      "metadata": {
        "colab": {
          "base_uri": "https://localhost:8080/"
        },
        "id": "Y0o8k-QckXd9",
        "outputId": "ed1dc16b-4d7c-4e6c-a0c1-d67f1702a922"
      },
      "outputs": [
        {
          "name": "stdout",
          "output_type": "stream",
          "text": [
            "Inverse of X:\n",
            "[[ 3. -1.  1.]\n",
            " [-2.  1. -2.]\n",
            " [ 0.  0.  1.]]\n",
            "X times the inverse of X:\n",
            "[[1. 0. 0.]\n",
            " [0. 1. 0.]\n",
            " [0. 0. 1.]]\n"
          ]
        }
      ],
      "source": [
        "X = np.array([[1, 1, 1],\n",
        "              [2, 3, 4],\n",
        "              [0, 0, 1]])\n",
        "\n",
        "X_inv = np.linalg.inv(X)\n",
        "print(\"Inverse of X:\")\n",
        "print(X_inv)\n",
        "\n",
        "print(\"X times the inverse of X:\")\n",
        "print(X @ X_inv)  # should give identity (also check np.identity or np.eye)"
      ]
    },
    {
      "cell_type": "markdown",
      "metadata": {
        "id": "ZAhBunSZFQj3"
      },
      "source": [
        "Concatenate two matrices\n"
      ]
    },
    {
      "cell_type": "code",
      "execution_count": 26,
      "metadata": {
        "colab": {
          "base_uri": "https://localhost:8080/"
        },
        "id": "GpFpfCdmFULz",
        "outputId": "799c39d6-a1fd-4613-a54b-697e3f74cb47"
      },
      "outputs": [
        {
          "name": "stdout",
          "output_type": "stream",
          "text": [
            "[[ 1  2]\n",
            " [ 3  4]\n",
            " [-1 -1]\n",
            " [-1 -1]] \n",
            "\n",
            "[[ 1  2 -1 -1]\n",
            " [ 3  4 -1 -1]]\n"
          ]
        }
      ],
      "source": [
        "A = np.array([[1, 2],\n",
        "              [3, 4]])\n",
        "\n",
        "B = np.array([[-1, -1],\n",
        "              [-1, -1]])\n",
        "\n",
        "C = np.concatenate([A, B], axis=0)\n",
        "print(C, '\\n')\n",
        "\n",
        "D = np.concatenate([A, B], axis=1)\n",
        "print(D)"
      ]
    },
    {
      "cell_type": "markdown",
      "metadata": {
        "id": "7Qbsy7CblKKs"
      },
      "source": [
        "## Linear Programming\n",
        "\n",
        "In A1, you will use CVXOPT to solve linear programming:\n",
        "https://cvxopt.org/userguide/coneprog.html#cvxopt.solvers.lp\n",
        "\n",
        "Let's consider the following problem.\n",
        "\n",
        "**Question**:\n",
        "\n",
        "---\n",
        "\n",
        "Suppose we are making dishes.\n",
        "\n",
        "|    Dishes    | Cost  |\n",
        "| :----------: | :---: |\n",
        "| Potato Salad | 12.75 |\n",
        "|  Meat Stew   | 7.25  |\n",
        "\n",
        "- Let $x_1$ be the number of potato salad dishes (first unknown)\n",
        "- Let $x_2$ be number of meat stew dishes (second unknown)\n",
        "\n",
        "- Requirements:\n",
        "\n",
        "1.  Budget = 1200\n",
        "2.  At least 60 veg dishes and 40 non-veg dishes\n",
        "\n",
        "- Objective:\n",
        "- Maximize number of dishes\n",
        "\n",
        "**Solution**:\n",
        "\n",
        "---\n",
        "\n",
        "- Forming constraints\n",
        "  - $12.75 x_1 + 7.25 x_2 \\le 1200$\n",
        "  - $x_1 \\ge 60 ⟺ -x_1 \\le -60$\n",
        "  - $x_2 \\ge 40 ⟺ -x_2 \\le -40$\n",
        "- Goal maximize $x_1 + x_2 ⟺ $ minimize $- x_1 - x_2$\n",
        "- Let $\\mathbf{x}=[x_1, x_2]$ unknown vector\n",
        "\n",
        "Specifications of `cvxopt.solvers.lp`\n",
        "\n",
        "$$\n",
        "\\begin{split}\n",
        "\\min_{\\mathbf{x}}\\quad& \\mathbf{c}^\\top \\mathbf{x}\n",
        "\\\\\n",
        "s.t.\\quad& G \\mathbf{x} + \\mathbf{s} = \\mathbf{h}\n",
        "\\\\\n",
        "& A \\mathbf{x} = \\mathbf{b}\n",
        "\\\\\n",
        "& \\mathbf{s} \\succeq \\mathbf{0}\n",
        "\\end{split}\n",
        "$$\n",
        "\n",
        "We can get rid of $\\mathbf{s}$:\n",
        "\n",
        "$$\n",
        "\\mathbf{s} = \\mathbf{h} - G \\mathbf{x} \\succeq \\mathbf{0}\n",
        "⟺\n",
        "G \\mathbf{x} \\preceq \\mathbf{h}\n",
        "$$\n",
        "\n",
        "Need to figure out $\\mathbf{c}, G, \\mathbf{h}$ (no equality constraint, so not using $A, \\mathbf{b}$)\n"
      ]
    },
    {
      "cell_type": "code",
      "execution_count": 27,
      "metadata": {
        "id": "_YOA8xtWZ3tU"
      },
      "outputs": [],
      "source": [
        "import numpy as np\n",
        "from cvxopt import matrix, solvers\n",
        "\n",
        "c = np.array([-1.0, -1.0])"
      ]
    },
    {
      "cell_type": "markdown",
      "metadata": {
        "id": "joe7bxJk0tTS"
      },
      "source": [
        "Then the objective function (goal) is\n",
        "$\\mathbf{c}^\\top\\mathbf{x} = (-1) x_1 + (-1) x_2$\n"
      ]
    },
    {
      "cell_type": "code",
      "execution_count": 28,
      "metadata": {
        "id": "ff4THdGVZ7aw"
      },
      "outputs": [],
      "source": [
        "G = np.array([[12.75, 7.25],\n",
        "              [-1, 0],\n",
        "              [0, -1]])\n",
        "h = np.array([1200.0, -60.0, -40.0])"
      ]
    },
    {
      "cell_type": "markdown",
      "metadata": {
        "id": "Xi1uUFjq1tfg"
      },
      "source": [
        "Then $G\\mathbf{x}=\n",
        "\\begin{bmatrix}\n",
        "12.75 & 7.25 \\\\\n",
        "-1 & 0 \\\\\n",
        "0 & -1\n",
        "\\end{bmatrix}\n",
        "\\begin{bmatrix}\n",
        "x_1 \\\\\n",
        "x_2\n",
        "\\end{bmatrix}\n",
        "=\n",
        "\\begin{bmatrix}\n",
        "12.75x_1+7.25x_2 \\\\\n",
        "-x_1 \\\\\n",
        "-x_2\n",
        "\\end{bmatrix}\n",
        "\\preceq\n",
        "\\begin{bmatrix}\n",
        "1200 \\\\\n",
        "-60 \\\\\n",
        "-40\n",
        "\\end{bmatrix}\n",
        "=\\mathbf{h}\n",
        "$\n"
      ]
    },
    {
      "cell_type": "code",
      "execution_count": 29,
      "metadata": {
        "colab": {
          "base_uri": "https://localhost:8080/"
        },
        "id": "0bTLzZWG1WWu",
        "outputId": "0e6464ec-b275-439c-c55d-eecf0e038e9d"
      },
      "outputs": [
        {
          "name": "stdout",
          "output_type": "stream",
          "text": [
            "     pcost       dcost       gap    pres   dres   k/t\n",
            " 0: -1.1342e+02 -1.5754e+03  2e+01  0e+00  1e+01  1e+00\n",
            " 1: -1.1469e+02 -4.2327e+02  4e+00  2e-16  3e+00  3e-01\n",
            " 2: -1.1981e+02 -1.7443e+02  9e-01  3e-16  5e-01  2e-01\n",
            " 3: -1.1999e+02 -1.2096e+02  2e-02  3e-16  8e-03  2e-03\n",
            " 4: -1.2000e+02 -1.2001e+02  2e-04  1e-16  8e-05  2e-05\n",
            " 5: -1.2000e+02 -1.2000e+02  2e-06  1e-16  8e-07  2e-07\n",
            " 6: -1.2000e+02 -1.2000e+02  2e-08  1e-16  8e-09  2e-09\n",
            "Optimal solution found.\n",
            "[[60.        ]\n",
            " [59.99999999]]\n"
          ]
        }
      ],
      "source": [
        "# Need to convert to cvxopt.matrix type\n",
        "c = matrix(c)\n",
        "G = matrix(G)\n",
        "h = matrix(h)\n",
        "\n",
        "# Finally, call the solver\n",
        "sol=solvers.lp(c, G, h)\n",
        "print(np.array(sol['x']))"
      ]
    }
  ],
  "metadata": {
    "colab": {
      "collapsed_sections": [
        "K9P0GRfRbnmF"
      ],
      "provenance": []
    },
    "kernelspec": {
      "display_name": "Python 3",
      "name": "python3"
    },
    "language_info": {
      "name": "python"
    }
  },
  "nbformat": 4,
  "nbformat_minor": 0
}
